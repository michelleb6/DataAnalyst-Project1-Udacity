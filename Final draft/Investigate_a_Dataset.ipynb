{
 "cells": [
  {
   "cell_type": "markdown",
   "id": "7d1d59dc",
   "metadata": {},
   "source": [
    "\n",
    "# Project: Investigate a Dataset - TMDb movie Data\n",
    "\n",
    "## Table of Contents\n",
    "<ul>\n",
    "<li><a href=\"#intro\">Introduction</a></li>\n",
    "<li><a href=\"#wrangling\">Data Wrangling</a></li>\n",
    "<li><a href=\"#eda\">Exploratory Data Analysis</a></li>\n",
    "<li><a href=\"#conclusions\">Conclusions</a></li>\n",
    "<li><a href=\"#reference\">Reference</a></li>\n",
    "</ul>"
   ]
  },
  {
   "cell_type": "markdown",
   "id": "49615e31",
   "metadata": {},
   "source": [
    "<a id='intro'></a>\n",
    "## Introduction\n",
    "\n",
    "### Dataset Description\n",
    "Data Set Name: \"TMDb movie data\" / File Name: \"tmdb_movies.csv\"\n",
    "This data set contains information about 10,000 movies collected from The Movie Database (TMDb), including user ratings and revenue.\n",
    "\n",
    "### Questions for Analysis:\n",
    "1. Do ratings correlate with how popular it is?\n",
    "2. What genre are popular?\n",
    "3. What genre actually makes profit?"
   ]
  },
  {
   "cell_type": "code",
   "execution_count": 40,
   "id": "53a4114d",
   "metadata": {},
   "outputs": [],
   "source": [
    "import pandas as pd\n",
    "import numpy as np\n",
    "%matplotlib inline\n",
    "import matplotlib.pyplot as plt\n",
    "import seaborn as sns\n",
    "\n",
    "df_movie=pd.read_csv('tmdb-movies.csv')"
   ]
  },
  {
   "cell_type": "markdown",
   "id": "334274ff",
   "metadata": {},
   "source": [
    "<a id='wrangling'></a>\n",
    "## Data Wrangling\n",
    "\n",
    "In this section of the report, I will load in the data, check for cleanliness, and then trim and clean dataset for analysis.\n",
    "\n",
    "### General Properties\n",
    "1. See overall datasets by using .head()\n",
    "2. Used .shape and found that there are 10866rows and 21 columns in this dataset.\n",
    "3. Define each numeric column's count, mean, standard deviation, minimum, and maximum. We also find 25,50,75% percentile.\n",
    "4. Find what data type for each column. Also, we find how many non-null rows there are in each column."
   ]
  },
  {
   "cell_type": "code",
   "execution_count": 41,
   "id": "9dda3360",
   "metadata": {},
   "outputs": [
    {
     "data": {
      "text/html": [
       "<div>\n",
       "<style scoped>\n",
       "    .dataframe tbody tr th:only-of-type {\n",
       "        vertical-align: middle;\n",
       "    }\n",
       "\n",
       "    .dataframe tbody tr th {\n",
       "        vertical-align: top;\n",
       "    }\n",
       "\n",
       "    .dataframe thead th {\n",
       "        text-align: right;\n",
       "    }\n",
       "</style>\n",
       "<table border=\"1\" class=\"dataframe\">\n",
       "  <thead>\n",
       "    <tr style=\"text-align: right;\">\n",
       "      <th></th>\n",
       "      <th>id</th>\n",
       "      <th>imdb_id</th>\n",
       "      <th>popularity</th>\n",
       "      <th>budget</th>\n",
       "      <th>revenue</th>\n",
       "      <th>original_title</th>\n",
       "      <th>cast</th>\n",
       "      <th>homepage</th>\n",
       "      <th>director</th>\n",
       "      <th>tagline</th>\n",
       "      <th>...</th>\n",
       "      <th>overview</th>\n",
       "      <th>runtime</th>\n",
       "      <th>genres</th>\n",
       "      <th>production_companies</th>\n",
       "      <th>release_date</th>\n",
       "      <th>vote_count</th>\n",
       "      <th>vote_average</th>\n",
       "      <th>release_year</th>\n",
       "      <th>budget_adj</th>\n",
       "      <th>revenue_adj</th>\n",
       "    </tr>\n",
       "  </thead>\n",
       "  <tbody>\n",
       "    <tr>\n",
       "      <th>0</th>\n",
       "      <td>135397</td>\n",
       "      <td>tt0369610</td>\n",
       "      <td>32.985763</td>\n",
       "      <td>150000000</td>\n",
       "      <td>1513528810</td>\n",
       "      <td>Jurassic World</td>\n",
       "      <td>Chris Pratt|Bryce Dallas Howard|Irrfan Khan|Vi...</td>\n",
       "      <td>http://www.jurassicworld.com/</td>\n",
       "      <td>Colin Trevorrow</td>\n",
       "      <td>The park is open.</td>\n",
       "      <td>...</td>\n",
       "      <td>Twenty-two years after the events of Jurassic ...</td>\n",
       "      <td>124</td>\n",
       "      <td>Action|Adventure|Science Fiction|Thriller</td>\n",
       "      <td>Universal Studios|Amblin Entertainment|Legenda...</td>\n",
       "      <td>6/9/15</td>\n",
       "      <td>5562</td>\n",
       "      <td>6.5</td>\n",
       "      <td>2015</td>\n",
       "      <td>1.379999e+08</td>\n",
       "      <td>1.392446e+09</td>\n",
       "    </tr>\n",
       "    <tr>\n",
       "      <th>1</th>\n",
       "      <td>76341</td>\n",
       "      <td>tt1392190</td>\n",
       "      <td>28.419936</td>\n",
       "      <td>150000000</td>\n",
       "      <td>378436354</td>\n",
       "      <td>Mad Max: Fury Road</td>\n",
       "      <td>Tom Hardy|Charlize Theron|Hugh Keays-Byrne|Nic...</td>\n",
       "      <td>http://www.madmaxmovie.com/</td>\n",
       "      <td>George Miller</td>\n",
       "      <td>What a Lovely Day.</td>\n",
       "      <td>...</td>\n",
       "      <td>An apocalyptic story set in the furthest reach...</td>\n",
       "      <td>120</td>\n",
       "      <td>Action|Adventure|Science Fiction|Thriller</td>\n",
       "      <td>Village Roadshow Pictures|Kennedy Miller Produ...</td>\n",
       "      <td>5/13/15</td>\n",
       "      <td>6185</td>\n",
       "      <td>7.1</td>\n",
       "      <td>2015</td>\n",
       "      <td>1.379999e+08</td>\n",
       "      <td>3.481613e+08</td>\n",
       "    </tr>\n",
       "    <tr>\n",
       "      <th>2</th>\n",
       "      <td>262500</td>\n",
       "      <td>tt2908446</td>\n",
       "      <td>13.112507</td>\n",
       "      <td>110000000</td>\n",
       "      <td>295238201</td>\n",
       "      <td>Insurgent</td>\n",
       "      <td>Shailene Woodley|Theo James|Kate Winslet|Ansel...</td>\n",
       "      <td>http://www.thedivergentseries.movie/#insurgent</td>\n",
       "      <td>Robert Schwentke</td>\n",
       "      <td>One Choice Can Destroy You</td>\n",
       "      <td>...</td>\n",
       "      <td>Beatrice Prior must confront her inner demons ...</td>\n",
       "      <td>119</td>\n",
       "      <td>Adventure|Science Fiction|Thriller</td>\n",
       "      <td>Summit Entertainment|Mandeville Films|Red Wago...</td>\n",
       "      <td>3/18/15</td>\n",
       "      <td>2480</td>\n",
       "      <td>6.3</td>\n",
       "      <td>2015</td>\n",
       "      <td>1.012000e+08</td>\n",
       "      <td>2.716190e+08</td>\n",
       "    </tr>\n",
       "    <tr>\n",
       "      <th>3</th>\n",
       "      <td>140607</td>\n",
       "      <td>tt2488496</td>\n",
       "      <td>11.173104</td>\n",
       "      <td>200000000</td>\n",
       "      <td>2068178225</td>\n",
       "      <td>Star Wars: The Force Awakens</td>\n",
       "      <td>Harrison Ford|Mark Hamill|Carrie Fisher|Adam D...</td>\n",
       "      <td>http://www.starwars.com/films/star-wars-episod...</td>\n",
       "      <td>J.J. Abrams</td>\n",
       "      <td>Every generation has a story.</td>\n",
       "      <td>...</td>\n",
       "      <td>Thirty years after defeating the Galactic Empi...</td>\n",
       "      <td>136</td>\n",
       "      <td>Action|Adventure|Science Fiction|Fantasy</td>\n",
       "      <td>Lucasfilm|Truenorth Productions|Bad Robot</td>\n",
       "      <td>12/15/15</td>\n",
       "      <td>5292</td>\n",
       "      <td>7.5</td>\n",
       "      <td>2015</td>\n",
       "      <td>1.839999e+08</td>\n",
       "      <td>1.902723e+09</td>\n",
       "    </tr>\n",
       "    <tr>\n",
       "      <th>4</th>\n",
       "      <td>168259</td>\n",
       "      <td>tt2820852</td>\n",
       "      <td>9.335014</td>\n",
       "      <td>190000000</td>\n",
       "      <td>1506249360</td>\n",
       "      <td>Furious 7</td>\n",
       "      <td>Vin Diesel|Paul Walker|Jason Statham|Michelle ...</td>\n",
       "      <td>http://www.furious7.com/</td>\n",
       "      <td>James Wan</td>\n",
       "      <td>Vengeance Hits Home</td>\n",
       "      <td>...</td>\n",
       "      <td>Deckard Shaw seeks revenge against Dominic Tor...</td>\n",
       "      <td>137</td>\n",
       "      <td>Action|Crime|Thriller</td>\n",
       "      <td>Universal Pictures|Original Film|Media Rights ...</td>\n",
       "      <td>4/1/15</td>\n",
       "      <td>2947</td>\n",
       "      <td>7.3</td>\n",
       "      <td>2015</td>\n",
       "      <td>1.747999e+08</td>\n",
       "      <td>1.385749e+09</td>\n",
       "    </tr>\n",
       "  </tbody>\n",
       "</table>\n",
       "<p>5 rows × 21 columns</p>\n",
       "</div>"
      ],
      "text/plain": [
       "       id    imdb_id  popularity     budget     revenue  \\\n",
       "0  135397  tt0369610   32.985763  150000000  1513528810   \n",
       "1   76341  tt1392190   28.419936  150000000   378436354   \n",
       "2  262500  tt2908446   13.112507  110000000   295238201   \n",
       "3  140607  tt2488496   11.173104  200000000  2068178225   \n",
       "4  168259  tt2820852    9.335014  190000000  1506249360   \n",
       "\n",
       "                 original_title  \\\n",
       "0                Jurassic World   \n",
       "1            Mad Max: Fury Road   \n",
       "2                     Insurgent   \n",
       "3  Star Wars: The Force Awakens   \n",
       "4                     Furious 7   \n",
       "\n",
       "                                                cast  \\\n",
       "0  Chris Pratt|Bryce Dallas Howard|Irrfan Khan|Vi...   \n",
       "1  Tom Hardy|Charlize Theron|Hugh Keays-Byrne|Nic...   \n",
       "2  Shailene Woodley|Theo James|Kate Winslet|Ansel...   \n",
       "3  Harrison Ford|Mark Hamill|Carrie Fisher|Adam D...   \n",
       "4  Vin Diesel|Paul Walker|Jason Statham|Michelle ...   \n",
       "\n",
       "                                            homepage          director  \\\n",
       "0                      http://www.jurassicworld.com/   Colin Trevorrow   \n",
       "1                        http://www.madmaxmovie.com/     George Miller   \n",
       "2     http://www.thedivergentseries.movie/#insurgent  Robert Schwentke   \n",
       "3  http://www.starwars.com/films/star-wars-episod...       J.J. Abrams   \n",
       "4                           http://www.furious7.com/         James Wan   \n",
       "\n",
       "                         tagline  ...  \\\n",
       "0              The park is open.  ...   \n",
       "1             What a Lovely Day.  ...   \n",
       "2     One Choice Can Destroy You  ...   \n",
       "3  Every generation has a story.  ...   \n",
       "4            Vengeance Hits Home  ...   \n",
       "\n",
       "                                            overview runtime  \\\n",
       "0  Twenty-two years after the events of Jurassic ...     124   \n",
       "1  An apocalyptic story set in the furthest reach...     120   \n",
       "2  Beatrice Prior must confront her inner demons ...     119   \n",
       "3  Thirty years after defeating the Galactic Empi...     136   \n",
       "4  Deckard Shaw seeks revenge against Dominic Tor...     137   \n",
       "\n",
       "                                      genres  \\\n",
       "0  Action|Adventure|Science Fiction|Thriller   \n",
       "1  Action|Adventure|Science Fiction|Thriller   \n",
       "2         Adventure|Science Fiction|Thriller   \n",
       "3   Action|Adventure|Science Fiction|Fantasy   \n",
       "4                      Action|Crime|Thriller   \n",
       "\n",
       "                                production_companies release_date vote_count  \\\n",
       "0  Universal Studios|Amblin Entertainment|Legenda...       6/9/15       5562   \n",
       "1  Village Roadshow Pictures|Kennedy Miller Produ...      5/13/15       6185   \n",
       "2  Summit Entertainment|Mandeville Films|Red Wago...      3/18/15       2480   \n",
       "3          Lucasfilm|Truenorth Productions|Bad Robot     12/15/15       5292   \n",
       "4  Universal Pictures|Original Film|Media Rights ...       4/1/15       2947   \n",
       "\n",
       "   vote_average  release_year    budget_adj   revenue_adj  \n",
       "0           6.5          2015  1.379999e+08  1.392446e+09  \n",
       "1           7.1          2015  1.379999e+08  3.481613e+08  \n",
       "2           6.3          2015  1.012000e+08  2.716190e+08  \n",
       "3           7.5          2015  1.839999e+08  1.902723e+09  \n",
       "4           7.3          2015  1.747999e+08  1.385749e+09  \n",
       "\n",
       "[5 rows x 21 columns]"
      ]
     },
     "execution_count": 41,
     "metadata": {},
     "output_type": "execute_result"
    }
   ],
   "source": [
    "df_movie.head()"
   ]
  },
  {
   "cell_type": "code",
   "execution_count": 42,
   "id": "6f7d1bcd",
   "metadata": {},
   "outputs": [
    {
     "data": {
      "text/plain": [
       "(10866, 21)"
      ]
     },
     "execution_count": 42,
     "metadata": {},
     "output_type": "execute_result"
    }
   ],
   "source": [
    "df_movie.shape"
   ]
  },
  {
   "cell_type": "code",
   "execution_count": 43,
   "id": "c268de63",
   "metadata": {},
   "outputs": [
    {
     "data": {
      "text/html": [
       "<div>\n",
       "<style scoped>\n",
       "    .dataframe tbody tr th:only-of-type {\n",
       "        vertical-align: middle;\n",
       "    }\n",
       "\n",
       "    .dataframe tbody tr th {\n",
       "        vertical-align: top;\n",
       "    }\n",
       "\n",
       "    .dataframe thead th {\n",
       "        text-align: right;\n",
       "    }\n",
       "</style>\n",
       "<table border=\"1\" class=\"dataframe\">\n",
       "  <thead>\n",
       "    <tr style=\"text-align: right;\">\n",
       "      <th></th>\n",
       "      <th>id</th>\n",
       "      <th>popularity</th>\n",
       "      <th>budget</th>\n",
       "      <th>revenue</th>\n",
       "      <th>runtime</th>\n",
       "      <th>vote_count</th>\n",
       "      <th>vote_average</th>\n",
       "      <th>release_year</th>\n",
       "      <th>budget_adj</th>\n",
       "      <th>revenue_adj</th>\n",
       "    </tr>\n",
       "  </thead>\n",
       "  <tbody>\n",
       "    <tr>\n",
       "      <th>count</th>\n",
       "      <td>10866.000000</td>\n",
       "      <td>10866.000000</td>\n",
       "      <td>1.086600e+04</td>\n",
       "      <td>1.086600e+04</td>\n",
       "      <td>10866.000000</td>\n",
       "      <td>10866.000000</td>\n",
       "      <td>10866.000000</td>\n",
       "      <td>10866.000000</td>\n",
       "      <td>1.086600e+04</td>\n",
       "      <td>1.086600e+04</td>\n",
       "    </tr>\n",
       "    <tr>\n",
       "      <th>mean</th>\n",
       "      <td>66064.177434</td>\n",
       "      <td>0.646441</td>\n",
       "      <td>1.462570e+07</td>\n",
       "      <td>3.982332e+07</td>\n",
       "      <td>102.070863</td>\n",
       "      <td>217.389748</td>\n",
       "      <td>5.974922</td>\n",
       "      <td>2001.322658</td>\n",
       "      <td>1.755104e+07</td>\n",
       "      <td>5.136436e+07</td>\n",
       "    </tr>\n",
       "    <tr>\n",
       "      <th>std</th>\n",
       "      <td>92130.136561</td>\n",
       "      <td>1.000185</td>\n",
       "      <td>3.091321e+07</td>\n",
       "      <td>1.170035e+08</td>\n",
       "      <td>31.381405</td>\n",
       "      <td>575.619058</td>\n",
       "      <td>0.935142</td>\n",
       "      <td>12.812941</td>\n",
       "      <td>3.430616e+07</td>\n",
       "      <td>1.446325e+08</td>\n",
       "    </tr>\n",
       "    <tr>\n",
       "      <th>min</th>\n",
       "      <td>5.000000</td>\n",
       "      <td>0.000065</td>\n",
       "      <td>0.000000e+00</td>\n",
       "      <td>0.000000e+00</td>\n",
       "      <td>0.000000</td>\n",
       "      <td>10.000000</td>\n",
       "      <td>1.500000</td>\n",
       "      <td>1960.000000</td>\n",
       "      <td>0.000000e+00</td>\n",
       "      <td>0.000000e+00</td>\n",
       "    </tr>\n",
       "    <tr>\n",
       "      <th>25%</th>\n",
       "      <td>10596.250000</td>\n",
       "      <td>0.207583</td>\n",
       "      <td>0.000000e+00</td>\n",
       "      <td>0.000000e+00</td>\n",
       "      <td>90.000000</td>\n",
       "      <td>17.000000</td>\n",
       "      <td>5.400000</td>\n",
       "      <td>1995.000000</td>\n",
       "      <td>0.000000e+00</td>\n",
       "      <td>0.000000e+00</td>\n",
       "    </tr>\n",
       "    <tr>\n",
       "      <th>50%</th>\n",
       "      <td>20669.000000</td>\n",
       "      <td>0.383856</td>\n",
       "      <td>0.000000e+00</td>\n",
       "      <td>0.000000e+00</td>\n",
       "      <td>99.000000</td>\n",
       "      <td>38.000000</td>\n",
       "      <td>6.000000</td>\n",
       "      <td>2006.000000</td>\n",
       "      <td>0.000000e+00</td>\n",
       "      <td>0.000000e+00</td>\n",
       "    </tr>\n",
       "    <tr>\n",
       "      <th>75%</th>\n",
       "      <td>75610.000000</td>\n",
       "      <td>0.713817</td>\n",
       "      <td>1.500000e+07</td>\n",
       "      <td>2.400000e+07</td>\n",
       "      <td>111.000000</td>\n",
       "      <td>145.750000</td>\n",
       "      <td>6.600000</td>\n",
       "      <td>2011.000000</td>\n",
       "      <td>2.085325e+07</td>\n",
       "      <td>3.369710e+07</td>\n",
       "    </tr>\n",
       "    <tr>\n",
       "      <th>max</th>\n",
       "      <td>417859.000000</td>\n",
       "      <td>32.985763</td>\n",
       "      <td>4.250000e+08</td>\n",
       "      <td>2.781506e+09</td>\n",
       "      <td>900.000000</td>\n",
       "      <td>9767.000000</td>\n",
       "      <td>9.200000</td>\n",
       "      <td>2015.000000</td>\n",
       "      <td>4.250000e+08</td>\n",
       "      <td>2.827124e+09</td>\n",
       "    </tr>\n",
       "  </tbody>\n",
       "</table>\n",
       "</div>"
      ],
      "text/plain": [
       "                  id    popularity        budget       revenue       runtime  \\\n",
       "count   10866.000000  10866.000000  1.086600e+04  1.086600e+04  10866.000000   \n",
       "mean    66064.177434      0.646441  1.462570e+07  3.982332e+07    102.070863   \n",
       "std     92130.136561      1.000185  3.091321e+07  1.170035e+08     31.381405   \n",
       "min         5.000000      0.000065  0.000000e+00  0.000000e+00      0.000000   \n",
       "25%     10596.250000      0.207583  0.000000e+00  0.000000e+00     90.000000   \n",
       "50%     20669.000000      0.383856  0.000000e+00  0.000000e+00     99.000000   \n",
       "75%     75610.000000      0.713817  1.500000e+07  2.400000e+07    111.000000   \n",
       "max    417859.000000     32.985763  4.250000e+08  2.781506e+09    900.000000   \n",
       "\n",
       "         vote_count  vote_average  release_year    budget_adj   revenue_adj  \n",
       "count  10866.000000  10866.000000  10866.000000  1.086600e+04  1.086600e+04  \n",
       "mean     217.389748      5.974922   2001.322658  1.755104e+07  5.136436e+07  \n",
       "std      575.619058      0.935142     12.812941  3.430616e+07  1.446325e+08  \n",
       "min       10.000000      1.500000   1960.000000  0.000000e+00  0.000000e+00  \n",
       "25%       17.000000      5.400000   1995.000000  0.000000e+00  0.000000e+00  \n",
       "50%       38.000000      6.000000   2006.000000  0.000000e+00  0.000000e+00  \n",
       "75%      145.750000      6.600000   2011.000000  2.085325e+07  3.369710e+07  \n",
       "max     9767.000000      9.200000   2015.000000  4.250000e+08  2.827124e+09  "
      ]
     },
     "execution_count": 43,
     "metadata": {},
     "output_type": "execute_result"
    }
   ],
   "source": [
    "df_movie.describe()"
   ]
  },
  {
   "cell_type": "code",
   "execution_count": 44,
   "id": "561e7500",
   "metadata": {},
   "outputs": [
    {
     "name": "stdout",
     "output_type": "stream",
     "text": [
      "<class 'pandas.core.frame.DataFrame'>\n",
      "RangeIndex: 10866 entries, 0 to 10865\n",
      "Data columns (total 21 columns):\n",
      " #   Column                Non-Null Count  Dtype  \n",
      "---  ------                --------------  -----  \n",
      " 0   id                    10866 non-null  int64  \n",
      " 1   imdb_id               10856 non-null  object \n",
      " 2   popularity            10866 non-null  float64\n",
      " 3   budget                10866 non-null  int64  \n",
      " 4   revenue               10866 non-null  int64  \n",
      " 5   original_title        10866 non-null  object \n",
      " 6   cast                  10790 non-null  object \n",
      " 7   homepage              2936 non-null   object \n",
      " 8   director              10822 non-null  object \n",
      " 9   tagline               8042 non-null   object \n",
      " 10  keywords              9373 non-null   object \n",
      " 11  overview              10862 non-null  object \n",
      " 12  runtime               10866 non-null  int64  \n",
      " 13  genres                10843 non-null  object \n",
      " 14  production_companies  9836 non-null   object \n",
      " 15  release_date          10866 non-null  object \n",
      " 16  vote_count            10866 non-null  int64  \n",
      " 17  vote_average          10866 non-null  float64\n",
      " 18  release_year          10866 non-null  int64  \n",
      " 19  budget_adj            10866 non-null  float64\n",
      " 20  revenue_adj           10866 non-null  float64\n",
      "dtypes: float64(4), int64(6), object(11)\n",
      "memory usage: 1.7+ MB\n"
     ]
    }
   ],
   "source": [
    "df_movie.info()"
   ]
  },
  {
   "cell_type": "code",
   "execution_count": 45,
   "id": "67f9248f",
   "metadata": {},
   "outputs": [
    {
     "data": {
      "text/plain": [
       "id                      10865\n",
       "imdb_id                 10855\n",
       "popularity              10814\n",
       "budget                    557\n",
       "revenue                  4702\n",
       "original_title          10571\n",
       "cast                    10719\n",
       "homepage                 2896\n",
       "director                 5067\n",
       "tagline                  7997\n",
       "keywords                 8804\n",
       "overview                10847\n",
       "runtime                   247\n",
       "genres                   2039\n",
       "production_companies     7445\n",
       "release_date             5909\n",
       "vote_count               1289\n",
       "vote_average               72\n",
       "release_year               56\n",
       "budget_adj               2614\n",
       "revenue_adj              4840\n",
       "dtype: int64"
      ]
     },
     "execution_count": 45,
     "metadata": {},
     "output_type": "execute_result"
    }
   ],
   "source": [
    "#Count how many unique values in each columns\n",
    "df_movie.nunique()"
   ]
  },
  {
   "cell_type": "markdown",
   "id": "3512879b",
   "metadata": {},
   "source": [
    "### Data Cleaning\n",
    "1. Drop columns that are not be used in analysis and make it more readble.\n",
    "2. Some rows in \"genres\" column are float data type. Change all of them into string.\n",
    "3. Since \"genres\" column has so many genres in one row, we will use only the first genre. We split them into groups by \"|\" and extract only the first genre.\n",
    "4. Drop null values.\n",
    "5. Since we want to know their profits, remove rows that budget=0 and/or revenue=0."
   ]
  },
  {
   "cell_type": "code",
   "execution_count": 46,
   "id": "0303dd41",
   "metadata": {},
   "outputs": [],
   "source": [
    "# Drop unneeded columns\n",
    "df_movie=df_movie.drop(['imdb_id','cast','homepage','tagline','keywords','overview','runtime','production_companies','release_date'],axis=1)"
   ]
  },
  {
   "cell_type": "code",
   "execution_count": 47,
   "id": "0525f0e1",
   "metadata": {},
   "outputs": [],
   "source": [
    "# Some row returns as float. Change all of them into string.\n",
    "df_movie['genres']=df_movie['genres'].astype('str')"
   ]
  },
  {
   "cell_type": "code",
   "execution_count": 48,
   "id": "76369426",
   "metadata": {},
   "outputs": [],
   "source": [
    "# Genres have too much. Show only the first one.\n",
    "df_movie['genres']=df_movie['genres'].apply(lambda x: x.split(\"|\")[0])"
   ]
  },
  {
   "cell_type": "code",
   "execution_count": 49,
   "id": "df351984",
   "metadata": {},
   "outputs": [
    {
     "data": {
      "text/plain": [
       "id                0\n",
       "popularity        0\n",
       "budget            0\n",
       "revenue           0\n",
       "original_title    0\n",
       "director          0\n",
       "genres            0\n",
       "vote_count        0\n",
       "vote_average      0\n",
       "release_year      0\n",
       "budget_adj        0\n",
       "revenue_adj       0\n",
       "dtype: int64"
      ]
     },
     "execution_count": 49,
     "metadata": {},
     "output_type": "execute_result"
    }
   ],
   "source": [
    "#Drop null values.\n",
    "df_movie.dropna(inplace=True)\n",
    "df_movie.isnull().sum()"
   ]
  },
  {
   "cell_type": "code",
   "execution_count": 58,
   "id": "ed6f460f",
   "metadata": {},
   "outputs": [],
   "source": [
    "# Remove rows that budget and revenue are 0's.\n",
    "df_movie.drop(df_movie[df_movie['budget']==0].index,inplace=True)\n",
    "df_movie.drop(df_movie[df_movie['revenue']==0].index,inplace=True)"
   ]
  },
  {
   "cell_type": "code",
   "execution_count": 59,
   "id": "88cd150b",
   "metadata": {},
   "outputs": [
    {
     "data": {
      "text/plain": [
       "(3854, 12)"
      ]
     },
     "execution_count": 59,
     "metadata": {},
     "output_type": "execute_result"
    }
   ],
   "source": [
    "#Look at how many data is left\n",
    "df_movie.shape"
   ]
  },
  {
   "cell_type": "markdown",
   "id": "ffe0d220",
   "metadata": {},
   "source": [
    "<a id='eda'></a>\n",
    "## Exploratory Data Analysis\n",
    "\n",
    "After cleaning data, we are now analyzing and visualizing the datasets!\n",
    "\n",
    "#### Histogram all columns\n",
    "Visualize the data to view it's distribution and have a better understanding.\n",
    "\n",
    "Research Question 1. Do ratings correlate with popularity?\n",
    "* Sort the dataset by popularity.\n",
    "* Use scatter plot on popularity and vote_average(rating). \n",
    "* Use correlation coefficient to see correlation.\n",
    "* Split popularity into two groups that one is above average popularity and another is under average popularity. Plot each of these into scatter plot.\n",
    "* Use correlation coefficient on each groups to see how they are correlated.\n",
    "\n",
    "Research Question 2: What Genre are Popular?\n",
    "* Group by \"genres\" with each genre having it's average popularity.\n",
    "* Plot \"Average Popularity in each Genre\" with bar plot.\n",
    "\n",
    "Research Question 3: What genre actually makes profit?\n",
    "* Calculate each rows profit by calculating revenue-budget.\n",
    "* Make copy of datasets and add \"profit\" column. Then group by \"genres\" with each genre having it's average profit.\n",
    "* Plot \"Average Profit in each Genre\" with bar plot."
   ]
  },
  {
   "cell_type": "code",
   "execution_count": 60,
   "id": "e2229dfc",
   "metadata": {},
   "outputs": [
    {
     "data": {
      "text/plain": [
       "array([[<AxesSubplot:title={'center':'id'}>,\n",
       "        <AxesSubplot:title={'center':'popularity'}>,\n",
       "        <AxesSubplot:title={'center':'budget'}>],\n",
       "       [<AxesSubplot:title={'center':'revenue'}>,\n",
       "        <AxesSubplot:title={'center':'vote_count'}>,\n",
       "        <AxesSubplot:title={'center':'vote_average'}>],\n",
       "       [<AxesSubplot:title={'center':'release_year'}>,\n",
       "        <AxesSubplot:title={'center':'budget_adj'}>,\n",
       "        <AxesSubplot:title={'center':'revenue_adj'}>]], dtype=object)"
      ]
     },
     "execution_count": 60,
     "metadata": {},
     "output_type": "execute_result"
    },
    {
     "data": {
      "image/png": "[encoded data removed]",
      "text/plain": [
       "<Figure size 1440x720 with 9 Axes>"
      ]
     },
     "metadata": {
      "needs_background": "light"
     },
     "output_type": "display_data"
    }
   ],
   "source": [
    "#Visualize all columns\n",
    "df_movie.hist(figsize=(20,10))"
   ]
  },
  {
   "cell_type": "markdown",
   "id": "f124eb4e",
   "metadata": {},
   "source": [
    "### Research Question 1: Do ratings correlate with popularity?"
   ]
  },
  {
   "cell_type": "code",
   "execution_count": 61,
   "id": "87dabef9",
   "metadata": {},
   "outputs": [],
   "source": [
    "#Order by popularity\n",
    "df_p=df_movie.sort_values(by='popularity',ascending=False)"
   ]
  },
  {
   "cell_type": "code",
   "execution_count": 62,
   "id": "3ab7b1c0",
   "metadata": {},
   "outputs": [
    {
     "data": {
      "text/plain": [
       "<AxesSubplot:title={'center':'Popularity Vs. Vote_average'}, xlabel='popularity', ylabel='vote_average'>"
      ]
     },
     "execution_count": 62,
     "metadata": {},
     "output_type": "execute_result"
    },
    {
     "data": {
      "image/png": "[encoded data removed]",
      "text/plain": [
       "<Figure size 432x288 with 1 Axes>"
      ]
     },
     "metadata": {
      "needs_background": "light"
     },
     "output_type": "display_data"
    }
   ],
   "source": [
    "#plot the popularity vs. vote_average\n",
    "df_p.plot(kind='scatter',x='popularity',y='vote_average',s=0.5,title='Popularity Vs. Vote_average')"
   ]
  },
  {
   "cell_type": "code",
   "execution_count": 63,
   "id": "14d4e9af",
   "metadata": {},
   "outputs": [
    {
     "data": {
      "text/plain": [
       "array([[1.        , 0.31786873],\n",
       "       [0.31786873, 1.        ]])"
      ]
     },
     "execution_count": 63,
     "metadata": {},
     "output_type": "execute_result"
    }
   ],
   "source": [
    "#Correlation coefficients.\n",
    "np.corrcoef(df_p['popularity'],df_p['vote_average'])"
   ]
  },
  {
   "cell_type": "markdown",
   "id": "56728d47",
   "metadata": {},
   "source": [
    "Low positive correlation between popularity and vote_average."
   ]
  },
  {
   "cell_type": "code",
   "execution_count": 64,
   "id": "8f5b3401",
   "metadata": {},
   "outputs": [
    {
     "data": {
      "text/plain": [
       "<AxesSubplot:title={'center':'Low Popularity Vs. Vote_average'}, xlabel='popularity', ylabel='vote_average'>"
      ]
     },
     "execution_count": 64,
     "metadata": {},
     "output_type": "execute_result"
    },
    {
     "data": {
      "image/png": "[encoded data removed]",
      "text/plain": [
       "<Figure size 432x288 with 1 Axes>"
      ]
     },
     "metadata": {
      "needs_background": "light"
     },
     "output_type": "display_data"
    },
    {
     "data": {
      "image/png": "[encoded data removed]",
      "text/plain": [
       "<Figure size 432x288 with 1 Axes>"
      ]
     },
     "metadata": {
      "needs_background": "light"
     },
     "output_type": "display_data"
    }
   ],
   "source": [
    "# Now compare ratings into groups that one is above average and one is under average.\n",
    "#First calculate the average popularity\n",
    "avg_popularity=df_movie['popularity'].mean()\n",
    "\n",
    "#Make two groups of data. One is above average popularity, and another is under average popularity.\n",
    "df_popularity_above_avg=df_movie[df_movie['popularity']>avg_popularity]\n",
    "df_popularity_under_avg=df_movie[df_movie['popularity']<=avg_popularity]\n",
    "\n",
    "#Plot the two groups.\n",
    "df_popularity_above_avg.plot(kind='scatter',x='popularity',y='vote_average',s=0.5,title='High Popularity Vs. Vote_average')\n",
    "df_popularity_under_avg.plot(kind='scatter',x='popularity',y='vote_average',s=0.5,title='Low Popularity Vs. Vote_average')"
   ]
  },
  {
   "cell_type": "code",
   "execution_count": 65,
   "id": "61b96183",
   "metadata": {},
   "outputs": [
    {
     "data": {
      "text/plain": [
       "array([[1.       , 0.3005648],\n",
       "       [0.3005648, 1.       ]])"
      ]
     },
     "execution_count": 65,
     "metadata": {},
     "output_type": "execute_result"
    }
   ],
   "source": [
    "#Calculate Correlation Coefficient for above average popularity group\n",
    "np.corrcoef(df_popularity_above_avg['popularity'],df_popularity_above_avg['vote_average'])"
   ]
  },
  {
   "cell_type": "code",
   "execution_count": 66,
   "id": "85a52442",
   "metadata": {},
   "outputs": [
    {
     "data": {
      "text/plain": [
       "(1199, 12)"
      ]
     },
     "execution_count": 66,
     "metadata": {},
     "output_type": "execute_result"
    }
   ],
   "source": [
    "#How many data for group that are above average popularity\n",
    "df_popularity_above_avg.shape"
   ]
  },
  {
   "cell_type": "code",
   "execution_count": 67,
   "id": "b0d9807c",
   "metadata": {},
   "outputs": [
    {
     "data": {
      "text/plain": [
       "array([[1.        , 0.11615309],\n",
       "       [0.11615309, 1.        ]])"
      ]
     },
     "execution_count": 67,
     "metadata": {},
     "output_type": "execute_result"
    }
   ],
   "source": [
    "#Calculate Correlation Coefficient for under average popularity group\n",
    "np.corrcoef(df_popularity_under_avg['popularity'],df_popularity_under_avg['vote_average'])"
   ]
  },
  {
   "cell_type": "code",
   "execution_count": 68,
   "id": "e2c89a8b",
   "metadata": {},
   "outputs": [
    {
     "data": {
      "text/plain": [
       "(2655, 12)"
      ]
     },
     "execution_count": 68,
     "metadata": {},
     "output_type": "execute_result"
    }
   ],
   "source": [
    "#How many data for group that are under average popularity\n",
    "df_popularity_under_avg.shape"
   ]
  },
  {
   "cell_type": "markdown",
   "id": "d90aaa06",
   "metadata": {},
   "source": [
    "This shows that even splitting into two group, they both have low positive correlation.\n",
    "Above average popularity have more correlation with vote_average than Under average popularity. "
   ]
  },
  {
   "cell_type": "markdown",
   "id": "4a4c1d05",
   "metadata": {},
   "source": [
    "### Research Question 2: What genre are popular?"
   ]
  },
  {
   "cell_type": "code",
   "execution_count": 69,
   "id": "6f8b542b",
   "metadata": {},
   "outputs": [
    {
     "name": "stdout",
     "output_type": "stream",
     "text": [
      "genres\n",
      "Action             1.442326\n",
      "Adventure          1.905525\n",
      "Animation          1.712723\n",
      "Comedy             0.914765\n",
      "Crime              1.072113\n",
      "Documentary        0.289461\n",
      "Drama              0.928449\n",
      "Family             1.609295\n",
      "Fantasy            1.581660\n",
      "History            1.442235\n",
      "Horror             0.855787\n",
      "Music              0.914098\n",
      "Mystery            1.133780\n",
      "Romance            1.369972\n",
      "Science Fiction    1.931437\n",
      "TV Movie           0.273628\n",
      "Thriller           1.171430\n",
      "War                1.658497\n",
      "Western            1.193918\n",
      "Name: popularity, dtype: float64\n"
     ]
    }
   ],
   "source": [
    "#Group by \"genres\" with it's average popularity\n",
    "df_g_p=df_movie.groupby('genres')['popularity'].mean()\n",
    "print(df_g_p)"
   ]
  },
  {
   "cell_type": "code",
   "execution_count": 70,
   "id": "f1e2ddf9",
   "metadata": {},
   "outputs": [
    {
     "data": {
      "text/plain": [
       "19"
      ]
     },
     "execution_count": 70,
     "metadata": {},
     "output_type": "execute_result"
    }
   ],
   "source": [
    "#How many genres\n",
    "df_g_p.count()"
   ]
  },
  {
   "cell_type": "code",
   "execution_count": 71,
   "id": "e7d6f102",
   "metadata": {},
   "outputs": [
    {
     "data": {
      "text/plain": [
       "Text(0, 0.5, 'Popularity')"
      ]
     },
     "execution_count": 71,
     "metadata": {},
     "output_type": "execute_result"
    },
    {
     "data": {
      "image/png": "[encoded data removed]",
      "text/plain": [
       "<Figure size 432x288 with 1 Axes>"
      ]
     },
     "metadata": {
      "needs_background": "light"
     },
     "output_type": "display_data"
    }
   ],
   "source": [
    "#Plot Average Popularity in each Genre\n",
    "df_g_p.plot(x='genres',y='popularity',kind='bar',title=\"Average Popularity in each Genre\")\n",
    "plt.xlabel(\"Genre\")\n",
    "plt.ylabel('Popularity')"
   ]
  },
  {
   "cell_type": "code",
   "execution_count": 72,
   "id": "e281485b",
   "metadata": {},
   "outputs": [
    {
     "name": "stdout",
     "output_type": "stream",
     "text": [
      "0.23715488262822806\n",
      "0.16396502262545648\n",
      "0.024062500709213234\n"
     ]
    }
   ],
   "source": [
    "#Percentage of top 3 and top 2 comparison\n",
    "top3_percent=(df_g_p['Science Fiction']+df_g_p['Adventure']+df_g_p['Animation'])/df_g_p.sum()\n",
    "top2_percent=(df_g_p['Science Fiction']+df_g_p['Adventure'])/df_g_p.sum()\n",
    "\n",
    "#Percentage of least 2\n",
    "least2_percent=(df_g_p['Documentary']+df_g_p['TV Movie'])/df_g_p.sum()\n",
    "\n",
    "print(top3_percent)\n",
    "print(top2_percent)\n",
    "print(least2_percent)"
   ]
  },
  {
   "cell_type": "markdown",
   "id": "f28d4305",
   "metadata": {},
   "source": [
    "Top 3 popular genres are Science Fiction, Adventure, and Animation."
   ]
  },
  {
   "cell_type": "markdown",
   "id": "3d14441d",
   "metadata": {},
   "source": [
    "### Research Question3: What genre actually makes profit?\n",
    "\n",
    "Analysis on profit=revenue-budget. While I understand that profit=revenue-expenses, I think budget is solid enough to be consider as expense because budgets are forcasted future expenses. This is for reference that is it worth it to make a movie on that certain genre. "
   ]
  },
  {
   "cell_type": "code",
   "execution_count": 73,
   "id": "e20d73ee",
   "metadata": {},
   "outputs": [
    {
     "name": "stdout",
     "output_type": "stream",
     "text": [
      "0        1363528810\n",
      "1         228436354\n",
      "2         185238201\n",
      "3        1868178225\n",
      "4        1316249360\n",
      "            ...    \n",
      "10822      26236689\n",
      "10828      10000000\n",
      "10829       1347000\n",
      "10835       8000000\n",
      "10848       6885000\n",
      "Length: 3854, dtype: int64\n"
     ]
    }
   ],
   "source": [
    "#Calculate profit for every row\n",
    "df_profit=df_movie['revenue']-df_movie['budget']\n",
    "print(df_profit)"
   ]
  },
  {
   "cell_type": "code",
   "execution_count": 74,
   "id": "6af78e9d",
   "metadata": {},
   "outputs": [
    {
     "name": "stdout",
     "output_type": "stream",
     "text": [
      "genres\n",
      "Action             8.418307e+07\n",
      "Adventure          1.565080e+08\n",
      "Animation          1.961203e+08\n",
      "Comedy             5.257658e+07\n",
      "Crime              4.499700e+07\n",
      "Documentary        1.699880e+07\n",
      "Drama              4.013670e+07\n",
      "Family             1.571622e+08\n",
      "Fantasy            1.041750e+08\n",
      "History            7.828396e+07\n",
      "Horror             3.982101e+07\n",
      "Music              4.524902e+07\n",
      "Mystery            4.163414e+07\n",
      "Romance            7.383663e+07\n",
      "Science Fiction    1.210682e+08\n",
      "TV Movie           3.700000e+07\n",
      "Thriller           4.522713e+07\n",
      "War                7.627563e+07\n",
      "Western            3.383666e+07\n",
      "Name: profit, dtype: float64\n"
     ]
    }
   ],
   "source": [
    "#Make a copy to not make changes in the original dataset.\n",
    "df_copy=df_movie.copy()\n",
    "df_copy['profit']=df_profit\n",
    "\n",
    "#Group by genres with each having it's average profit.\n",
    "df_g_profit=df_copy.groupby('genres')['profit'].mean()\n",
    "print(df_g_profit)"
   ]
  },
  {
   "cell_type": "code",
   "execution_count": 75,
   "id": "57a740d2",
   "metadata": {},
   "outputs": [
    {
     "data": {
      "text/plain": [
       "Text(0, 0.5, 'Profit')"
      ]
     },
     "execution_count": 75,
     "metadata": {},
     "output_type": "execute_result"
    },
    {
     "data": {
      "image/png": "[encoded data removed]",
      "text/plain": [
       "<Figure size 432x288 with 1 Axes>"
      ]
     },
     "metadata": {
      "needs_background": "light"
     },
     "output_type": "display_data"
    }
   ],
   "source": [
    "#Plot Average Plot in each Genre\n",
    "df_g_profit.plot(x='genres',y='profit',kind='bar',title='Average Profit in each Genre')\n",
    "plt.xlabel('Genres')\n",
    "plt.ylabel('Profit')"
   ]
  },
  {
   "cell_type": "code",
   "execution_count": 76,
   "id": "c0b8bf90",
   "metadata": {},
   "outputs": [
    {
     "name": "stdout",
     "output_type": "stream",
     "text": [
      "0.2233887585246347\n",
      "0.07318986000277161\n",
      "0.012369545110950219\n"
     ]
    }
   ],
   "source": [
    "#Percentage of top 3 and top 2 comparison\n",
    "top3_percent=(df_g_p['Animation']+df_g_p['Adventure']+df_g_p['Family'])/df_g_p.sum()\n",
    "animation_percent=df_g_p['Animation']/df_g_p.sum()\n",
    "\n",
    "#Percentage of least 2\n",
    "documentary_percent=df_g_p['Documentary']/df_g_p.sum()\n",
    "\n",
    "print(top3_percent)\n",
    "print(animation_percent)\n",
    "print(documentary_percent)"
   ]
  },
  {
   "cell_type": "markdown",
   "id": "ef64a654",
   "metadata": {},
   "source": [
    "High Profit are Animation, Adventure, Family, and Science Fiction."
   ]
  },
  {
   "cell_type": "markdown",
   "id": "62f7cede",
   "metadata": {},
   "source": [
    "<a id='conclusions'></a>\n",
    "## Conclusions\n",
    "\n",
    "* From the first question, we found that popular movies are slightly correlated with higher ratings. With samples of 3854 movies, the correlation is about 0.3 which is a low positive correlation. I was thinking about the reason why it has low positive correlation, so I split the popularity into two groups to see if there are difference in two groups. One group is above average popularity and another group is under average popularity. Above average popularity with 1199 samples, it has 0.3 correlation with rating. Under average popularity with 2655 samples, it had 0.12 correlation with rating. Thus, even splitting into two groups, popularity has a low positive correlation with ratings. However, the less popular it is, the less correlated with rating because under average popularity group have less correlation with ratings.\n",
    "* For the second question, I found that popular genres are Science Fiction, Adventure, and Animation. While there are total 19 genres, these top 3 genres are 23.7% from the total popularity. Especially the top 2 genres which are Science Fiction and Adventure, both are above 1.75 popularity and contains 16.4% from the total popularity. Compare with the least 2 which are Documentary and TV Movie, they only contains 2.4% from the total popularity. This means that there are 14% difference between the top2 and least2 genres. Thus, Science Fiction and Adventures are very popular genres that helps the movie industry. \n",
    "* For the third question, it was interesting to see that the average profit group by genres are differet ranking compare to the second question. I found that Animation, Adventure, and Family. Science Fiction ranked 4th while it's the most popular genre. Animation was the only one above $1.75+e08 which contains 7.3% of the total profit. The least profit genre was Documentary which only contains 1.2% of the total profit. That is 6.1% difference between the top and least genre. However, not just Animation is powerful since the top3 have 22.3% of the total profit which creates the movie industry significant.\n",
    "\n",
    "In conclusion, I found that popular movies are slightly correlated with ratings. However, I found that the less popular the movie is, the less correlated with ratings. Also, I found that popular genres are Science Fiction, Adventure, and Animation which contains 16.4% of the total popularity. And I also research on profit difference between genres that I found Animation, Adventure, and Family are the top 3. Thus, Animation and Adventure are ranked in both questions, that they make the movie industry powerful. "
   ]
  },
  {
   "cell_type": "markdown",
   "id": "4f02b4e3",
   "metadata": {},
   "source": [
    "<a id='reference'></a>\n",
    "## Reference\n",
    "* https://sparkbyexamples.com/pandas/pandas-drop-rows-with-condition/ - Drop rows that budget and revenue is equal to 0.\n",
    "* https://datatofish.com/sort-pandas-dataframe/ - to sort by \"popularity\" in DESC order.\n",
    "* https://numpy.org/doc/stable/reference/generated/numpy.corrcoef.html - Calculate correlation coefficient."
   ]
  }
 ],
 "metadata": {
  "kernelspec": {
   "display_name": "Python 3 (ipykernel)",
   "language": "python",
   "name": "python3"
  },
  "language_info": {
   "codemirror_mode": {
    "name": "ipython",
    "version": 3
   },
   "file_extension": ".py",
   "mimetype": "text/x-python",
   "name": "python",
   "nbconvert_exporter": "python",
   "pygments_lexer": "ipython3",
   "version": "3.9.7"
  }
 },
 "nbformat": 4,
 "nbformat_minor": 5
}
